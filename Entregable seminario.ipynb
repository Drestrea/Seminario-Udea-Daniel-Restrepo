{
 "cells": [
  {
   "attachments": {
    "image.png": {
     "image/png": "[encoded data removed]"
    }
   },
   "cell_type": "markdown",
   "id": "26f53232",
   "metadata": {},
   "source": [
    "![image.png](attachment:image.png)"
   ]
  },
  {
   "cell_type": "markdown",
   "id": "6ac8e0a1",
   "metadata": {},
   "source": [
    "# Técnicas de clasificación para optimización de procesos de cargue de productos químicos"
   ]
  },
  {
   "cell_type": "markdown",
   "id": "ad83242b",
   "metadata": {},
   "source": [
    "La operación de cargue de productos químicos, es un proceso con un alto componente de incertidumbre debido a la gran cantidad de elementos involucrados, y la posibilidad de que alguno de estos falle, así como la complejidad del proceso, que podría desencadenar un retraso logístico considerable en la operación. Dada la posibilidad de entender y describir adecuadamente el proceso a partir de la analítica, pueden brindarse herramientas valiosas a la compañía, con el propósito de tomar medidas correctivas a partir de un análisis mas profundo que el realizado actualmente con el uso de herramientas informáticas tradicionales."
   ]
  },
  {
   "cell_type": "markdown",
   "id": "d3ac0146",
   "metadata": {},
   "source": [
    "## 1. Librerias y configuraciones previas"
   ]
  },
  {
   "cell_type": "code",
   "execution_count": 1,
   "id": "e667afbc",
   "metadata": {},
   "outputs": [],
   "source": [
    "# Tratamiento de datos\n",
    "# ==============================================================================\n",
    "import pandas as pd\n",
    "import numpy as np\n",
    "\n",
    "\n",
    "# Matemáticas y estadísticas\n",
    "# ==============================================================================\n",
    "import math\n",
    "\n",
    "# Preparación de datos\n",
    "# ==============================================================================\n",
    "from imblearn.over_sampling import RandomOverSampler\n",
    "from sklearn.neighbors import LocalOutlierFactor\n",
    "\n",
    "# Gráficos\n",
    "# ==============================================================================\n",
    "import matplotlib.pyplot as plt\n",
    "from matplotlib import style\n",
    "import seaborn as sns\n",
    "\n",
    "# Configuración matplotlib\n",
    "# ==============================================================================\n",
    "plt.rcParams['image.cmap'] = \"bwr\"\n",
    "#plt.rcParams['figure.dpi'] = \"100\"\n",
    "plt.rcParams['savefig.bbox'] = \"tight\"\n",
    "style.use('ggplot') or plt.style.use('ggplot')\n",
    "\n",
    "# Preparación de datos\n",
    "# ==============================================================================\n",
    "from sklearn.preprocessing import MinMaxScaler\n",
    "\n",
    "# Evaluación de modelos\n",
    "# ==============================================================================\n",
    "from sklearn import metrics\n",
    "from sklearn.model_selection import train_test_split\n",
    "from sklearn.model_selection import cross_val_score\n",
    "from sklearn.model_selection import GridSearchCV\n",
    "\n",
    "from sklearn.model_selection import ParameterGrid\n",
    "\n",
    "import statsmodels.api as sm\n",
    "\n",
    "from sklearn.svm import LinearSVC\n",
    "\n",
    "from sklearn import svm\n",
    "\n",
    "from sklearn.ensemble import RandomForestClassifier\n",
    "\n",
    "from sklearn import metrics\n",
    "from sklearn.metrics import precision_score\n",
    "from sklearn.metrics import confusion_matrix\n",
    "from sklearn.metrics import roc_auc_score\n",
    "from sklearn.metrics import roc_curve\n",
    "\n",
    "# Configuración warnings\n",
    "# ==============================================================================\n",
    "import warnings\n",
    "warnings.filterwarnings('ignore')"
   ]
  },
  {
   "cell_type": "markdown",
   "id": "d5f15803",
   "metadata": {},
   "source": [
    "## 2. Funciones"
   ]
  },
  {
   "cell_type": "code",
   "execution_count": 2,
   "id": "88f1b23c",
   "metadata": {},
   "outputs": [],
   "source": [
    "# Función para graficar un plot con multiples gráficas del mismo tipo:\n",
    "#\n",
    "# df       : dataframe \n",
    "# cols     : lista de columnas a graficar\n",
    "# num_cols : número de columnas \n",
    "# num_rows : número de filas\n",
    "# tipo     : 'c' = countplot,   'b' = boxplot, 's' = scatterplot \n",
    "# targetVar: nombre de la variable comparativa de salida. Debe ser numérica y debe estar cotenida en el dataframe. \n",
    "#            Para countplot no es necesario (None)\n",
    "# figsize  : tamaño del plot. Valor por defecto (16,8)\n",
    "#\n",
    "# *Nota: el número de filas * el número de columnas debe ser mayor al total de elementos de cols\n",
    "#\n",
    "# Ejemplos:     \n",
    "#    plot_multiples_graficas (d, catCols, 5, 3, 'c', None, (16,12))\n",
    "#    plot_multiples_graficas (d, numCols, 5, 3, 's', 'price', (16,12))\n",
    "#    plot_multiples_graficas (d, ['make'], 1, 1, 'b', 'price', (16,12))\n",
    "# ==============================================================================\n",
    "\n",
    "\n",
    "def plot_multiples_graficas(df, cols, num_cols, num_rows, tipo, targetVar, figsize=(16,8)):\n",
    "    \n",
    "    plt.rcParams['figure.figsize'] = figsize\n",
    "    \n",
    "    #num_plots = len(cols)\n",
    "    #num_cols = math.ceil(np.sqrt(num_plots))\n",
    "    #num_rows = math.ceil(num_plots/num_cols)\n",
    "        \n",
    "    fig, axs = plt.subplots(num_rows, num_cols)\n",
    "     \n",
    "    for ind, col in enumerate(cols):\n",
    "        i = math.floor(ind/num_cols)\n",
    "        j = ind - i*num_cols\n",
    "        \n",
    "        if num_rows == 1:\n",
    "            if num_cols == 1:\n",
    "                if tipo == 'c': \n",
    "                    sns.countplot(x=df[col], ax=axs, dodge = False)\n",
    "                    axs[0].set_xticklabels(axs[0].get_xticklabels(), rotation=90)\n",
    "                if tipo == 'b':\n",
    "                    sns.boxplot(x=df[col], y=df[targetVar], ax=axs)\n",
    "                if tipo == 's':\n",
    "                    sns.scatterplot(x=df[col], y=df[targetVar], ax=axs)\n",
    "            else:\n",
    "                if tipo == 'c':\n",
    "                    sns.countplot(x=df[col], ax=axs[j], dodge = False)\n",
    "                if tipo == 'b':\n",
    "                    sns.boxplot(x=df[col], y=df[targetVar], ax=axs[j])\n",
    "                if tipo == 's':\n",
    "                    sns.scatterplot(x=df[col], y=df[targetVar], ax=axs[j])\n",
    "        else:\n",
    "            if num_cols == 1: \n",
    "                if tipo == 'c':\n",
    "                    sns.countplot(x=d[col], ax=axs[i], dodge = False)\n",
    "                if tipo == 'b':\n",
    "                    sns.boxplot(x=df[col], y=df[targetVar], ax=axs[i])\n",
    "                if tipo == 's':\n",
    "                    sns.scatterplot(x=df[col], y=df[targetVar], ax=axs[i])\n",
    "            else:\n",
    "                if tipo == 'c':\n",
    "                    sns.countplot(x=df[col], ax=axs[i, j], dodge = False)\n",
    "                if tipo == 'b':\n",
    "                    sns.boxplot(x=df[col], y=df[targetVar], ax=axs[i, j])\n",
    "                if tipo == 's':\n",
    "                    sns.scatterplot(x=df[col], y=df[targetVar], ax=axs[i, j])"
   ]
  },
  {
   "attachments": {
    "image.png": {
     "image/png": "[encoded data removed]"
    }
   },
   "cell_type": "markdown",
   "id": "deab938b",
   "metadata": {},
   "source": [
    "## 3. Carga del dataset\n",
    "\n",
    "El data set corresponde a los tiempos de cargue de una Multinacional Colombiana, dedicada a la producción de cloruro de sodio y sus derivados químicos, por lo que la versión completa de la misma es de carácter confidencial y no se provee como anexo a este documento.\n",
    "\n",
    "Para el segundo entregable de la materia \"Seminario\" del postgrado en analítica y ciencia de Datos, solo se usarán los datos correspondientes al año 2022 y el año 2023 hasta el 03 de marzo. Para las próximas iteraciones se realizará la limpieza y preparación de datos de 2020 y 2021, los cuales se encuentran en un formato diferente a los mencionados anteriormente\n",
    "\n",
    "![image.png](attachment:image.png)\n",
    "\n"
   ]
  },
  {
   "cell_type": "code",
   "execution_count": null,
   "id": "8006d718",
   "metadata": {},
   "outputs": [],
   "source": [
    "data2022 = pd.read_excel ('Tiempos 2022 QM.xlsx')"
   ]
  },
  {
   "cell_type": "code",
   "execution_count": null,
   "id": "db08a961",
   "metadata": {},
   "outputs": [],
   "source": [
    "data2022.head()"
   ]
  },
  {
   "cell_type": "code",
   "execution_count": null,
   "id": "9281edaa",
   "metadata": {},
   "outputs": [],
   "source": [
    "data2022.info()"
   ]
  },
  {
   "cell_type": "code",
   "execution_count": null,
   "id": "28553829",
   "metadata": {},
   "outputs": [],
   "source": [
    "data2023 = pd.read_excel ('Tiempos 2023 QM.xlsx')"
   ]
  },
  {
   "cell_type": "code",
   "execution_count": null,
   "id": "fe640fe9",
   "metadata": {},
   "outputs": [],
   "source": [
    "data2023.head()"
   ]
  },
  {
   "cell_type": "code",
   "execution_count": null,
   "id": "eb5657de",
   "metadata": {},
   "outputs": [],
   "source": [
    "data2023.info()"
   ]
  },
  {
   "cell_type": "code",
   "execution_count": null,
   "id": "835dcb5d",
   "metadata": {},
   "outputs": [],
   "source": [
    "data = pd.concat([data2022, data2023], axis=0)\n",
    "data.reset_index(drop=True, inplace=True)"
   ]
  },
  {
   "cell_type": "code",
   "execution_count": null,
   "id": "5ec52066",
   "metadata": {
    "scrolled": false
   },
   "outputs": [],
   "source": [
    "data.info()"
   ]
  },
  {
   "cell_type": "markdown",
   "id": "3fb0098e",
   "metadata": {},
   "source": [
    "## 4. Limpieza de datos (Data Cleaning)"
   ]
  },
  {
   "cell_type": "code",
   "execution_count": null,
   "id": "cca2d267",
   "metadata": {},
   "outputs": [],
   "source": [
    "#Borrando columnas que no se emplearán\n",
    "\n",
    "# El Periodo puede ser eliminado, ya que se desea hacer una segmentación de acuerdo al dia de la semana\n",
    "data.drop(['Periodo'], axis='columns', inplace=True)\n",
    "\n",
    "# El Consolidado puede ser eliminado, ya que es un numero interno de seguimiento, que no aporta información al proceso\n",
    "data.drop(['Consolidado'], axis='columns', inplace=True)\n",
    "\n",
    "# Estado, avance del vehiculo en el proceso de cargue, para este caso todos los vehiculos han sido cargados y despachados\n",
    "data.drop(['Estado'], axis='columns', inplace=True)\n",
    "\n",
    "# Codigo de la transportadora, se conserva el nombre de la transportadora\n",
    "data.drop(['Transp'], axis='columns', inplace=True)\n",
    "\n",
    "# Segmento, variable que ya no es necesaria, ya que es rebundante con el producto\n",
    "data.drop(['Segmento'], axis='columns', inplace=True)\n",
    "\n",
    "# Se elimina tambien la variable Placa, que cuenta con 277 variables diferentes\n",
    "data.drop(['Placa'], axis='columns', inplace=True)\n",
    "\n",
    "# Día de despacho, variable que ya no es necesaria, esta información se toma de Ingreso de Vehiculo, segmentada por dia de ingreso\n",
    "data.drop(['Día de despacho'], axis='columns', inplace=True)\n",
    "\n",
    "# Como se desea construir un modelo que estime la posible de retraso en un cargue, esta alerta debe ir ligada al momento de\n",
    "# llegada del vehiculo a planta, por lo que información obtenida con posterioridad no sera considerada.\n",
    "\n",
    "# Se elimina Inspección, dato que se obtiene de manera posterior al ingreso de vehiculo\n",
    "data.drop(['Inspección'], axis='columns', inplace=True)\n",
    "\n",
    "# Se elimina Muelle Asignado, dato que se obtiene de manera posterior al ingreso de vehiculo\n",
    "data.drop(['Muelle Asignado'], axis='columns', inplace=True)\n",
    "\n",
    "# Se elimina Inicio de Cargue, dato que se obtiene de manera posterior al ingreso de vehiculo\n",
    "data.drop(['Inicio de Cargue'], axis='columns', inplace=True)\n",
    "\n",
    "# Se elimina Fin Cargue CENDIS, dato que se obtiene de manera posterior al ingreso de vehiculo\n",
    "data.drop(['Fin Cargue CENDIS'], axis='columns', inplace=True)\n",
    "\n",
    "# Se elimina Salida Vehiculo, dato que se obtiene de manera posterior al ingreso de vehiculo\n",
    "data.drop(['Salida Vehiculo'], axis='columns', inplace=True)\n",
    "\n",
    "# Reporte de sicoq, variable que solo aplica para una fracción de los productos cargados, dato que se obtiene de manera posterior al ingreso de vehiculo\n",
    "data.drop(['Reporte de sicoq'], axis='columns', inplace=True)\n",
    "\n",
    "# Destino, corresponde al cliente al que se hizo despacho, pero la operación a revisar esta limitada a la salida del vehiculo\n",
    "# de planta, por lo que puede ser eliminada\n",
    "data.drop(['Destino'], axis='columns', inplace=True)\n",
    "\n",
    "# Codigo del producto cargado\n",
    "data.drop(['Cod-pro'], axis='columns', inplace=True)\n",
    "\n",
    "# Tiempo espera reporte de Sicoq (R-P), variable tipo objeto, dato que se obtiene de manera posterior al ingreso de vehiculo\n",
    "data.drop(['Tiempo espera reporte de Sicoq (R-P)'], axis='columns', inplace=True)\n",
    "\n",
    "# Tiempo en Planta (S-N), variable tipo objeto, que puede ser calculada a partir de las otras variables\n",
    "# datetime que componen el dataset\n",
    "data.drop(['Tiempo en Planta (S-N)'], axis='columns', inplace=True)\n",
    "\n",
    "# Tiempo de cargue (R-Q), variable tipo objeto, que puede ser calculada a partir de las otras variables\n",
    "# datetime que componen el dataset\n",
    "data.drop(['Tiempo de cargue (R-Q)'], axis='columns', inplace=True)\n",
    "\n",
    "# Espera paso a muelle (Q-O), variable tipo objeto, que puede ser calculada a partir de las otras variables\n",
    "# datetime que componen el dataset\n",
    "data.drop(['Espera paso a muelle (Q-O)'], axis='columns', inplace=True)\n",
    "\n",
    "# Observaciones para el caso de demoras en el reporte SICOQ\n",
    "data.drop(['Observaciones reporte de sicoq'], axis='columns', inplace=True)\n",
    "\n",
    "# PROGRAMADOS, variable introducida recientemente pero que solo cubre una pequeña fracción de los datos, \n",
    "# ademas de que los parametros para programación estan en un proceso de revisión\n",
    "data.drop(['PROGRAMADOS '], axis='columns', inplace=True)\n",
    "\n",
    "# HORA INGRESO, variable introducida recientemente pero que solo cubre una pequeña fracción de los datos,\n",
    "# ademas de que puede deducirse de la variable \"Ingreso de Vehiculo\"\n",
    "data.drop(['HORA INGRESO'], axis='columns', inplace=True)\n",
    "\n",
    "# FRANJA HORARIA, variable introducida recientemente pero que solo cubre una pequeña fracción de los datos,\n",
    "# ademas de que puede deducirse de la variable \"Ingreso de Vehiculo\"\n",
    "data.drop(['FRANJA HORARIA'], axis='columns', inplace=True)\n",
    "\n",
    "# Justificaciones, variable de texto abierta\n",
    "data.drop(['Justificaciones'], axis='columns', inplace=True)\n",
    "\n",
    "#Variables sin información\n",
    "data = data.drop(['Unnamed: 35', 'Unnamed: 36', 'Unnamed: 37', 'Unnamed: 38', 'Unnamed: 39', 'Unnamed: 40', 'Unnamed: 41', 'Unnamed: 42'], axis=1)\n",
    "\n",
    "# Justificaciones sicoq, variable que solo aplica para una fracción de los productos cargados, \n",
    "data.drop(['Justificaciones sicoq'], axis='columns', inplace=True)"
   ]
  },
  {
   "cell_type": "code",
   "execution_count": null,
   "id": "effa2772",
   "metadata": {},
   "outputs": [],
   "source": [
    "data.info()"
   ]
  },
  {
   "cell_type": "code",
   "execution_count": null,
   "id": "c1dcd5f7",
   "metadata": {},
   "outputs": [],
   "source": [
    "data.head()"
   ]
  },
  {
   "cell_type": "code",
   "execution_count": null,
   "id": "bdbe3795",
   "metadata": {},
   "outputs": [],
   "source": [
    "# eliminación de registros duplicados\n",
    "data=data.drop_duplicates()\n",
    "\n",
    "# eliminación de nulos\n",
    "data = data.dropna()\n",
    "\n",
    "#Reiniciar el indice\n",
    "data.reset_index(drop=True, inplace=True) "
   ]
  },
  {
   "cell_type": "code",
   "execution_count": null,
   "id": "c33ecae7",
   "metadata": {},
   "outputs": [],
   "source": [
    "data.info()"
   ]
  },
  {
   "cell_type": "code",
   "execution_count": null,
   "id": "499a12c6",
   "metadata": {
    "scrolled": false
   },
   "outputs": [],
   "source": [
    "for col in data.columns:\n",
    "    print(\"=\"*5 + f\" {col} \" + \"=\"*20)\n",
    "    print(data[col].value_counts())\n",
    "    print()"
   ]
  },
  {
   "cell_type": "code",
   "execution_count": null,
   "id": "3c787948",
   "metadata": {},
   "outputs": [],
   "source": [
    "# Se conservan los valores diferentes de \"SIN DEFINIR\" de la variable \"Tipo vehiculo\" de la base de datos\n",
    "\n",
    "data = data[data['Tipo Vehiculo']!='SIN DEFINIR']\n",
    "\n",
    "# Se eliminan los valores errados de la variable \"Tipo cargue\" de base de datos\n",
    "\n",
    "data = data[data['Tipo de cargue']!='TIEMPO DE ALMUERSO/CENA']\n",
    "data = data[data['Tipo de cargue']!='TDZ592']\n",
    "data = data[data['Tipo de cargue']!='LPZ021']\n",
    "data = data[data['Tipo de cargue']!='VCN721']\n"
   ]
  },
  {
   "cell_type": "code",
   "execution_count": null,
   "id": "30ecf939",
   "metadata": {
    "scrolled": false
   },
   "outputs": [],
   "source": [
    "for col in data.columns:\n",
    "    print(\"=\"*5 + f\" {col} \" + \"=\"*20)\n",
    "    print(data[col].value_counts())\n",
    "    print()"
   ]
  },
  {
   "cell_type": "markdown",
   "id": "f46077c1",
   "metadata": {},
   "source": [
    "## 5. Generación nuevas variables de entrada"
   ]
  },
  {
   "cell_type": "code",
   "execution_count": null,
   "id": "ee6ea2a0",
   "metadata": {},
   "outputs": [],
   "source": [
    "data['hora entrada'] = data['Ingreso de Vehiculo'].dt.hour\n",
    "\n",
    "data['Dia semana'] = data['Ingreso de Vehiculo'].dt.strftime('%A')\n",
    "\n",
    "# Justificaciones, variable de texto abierta\n",
    "data.drop(['Ingreso de Vehiculo'], axis='columns', inplace=True)"
   ]
  },
  {
   "cell_type": "code",
   "execution_count": null,
   "id": "a0551736",
   "metadata": {},
   "outputs": [],
   "source": [
    "data.info()"
   ]
  },
  {
   "cell_type": "markdown",
   "id": "b82c740c",
   "metadata": {},
   "source": [
    "## 6. Transformación variable de salida\n",
    "\n",
    "Se construyo la variable categorica respuesta, que indica si un vehiculo presento o no demora en el cargue, de acuerdo a las metas indicadas por la compañia\n",
    "\n",
    "Siendo 1 = Cargue dentro del tiempo deseado, 0 = Cargue con algun tipo de demora"
   ]
  },
  {
   "cell_type": "code",
   "execution_count": null,
   "id": "52932d28",
   "metadata": {},
   "outputs": [],
   "source": [
    "# Aplicación de la función de get_dummies\n",
    "\n",
    "d =pd.get_dummies(data['Observaciones cargue y despacho'], drop_first=0)"
   ]
  },
  {
   "cell_type": "code",
   "execution_count": null,
   "id": "e2edc3a7",
   "metadata": {},
   "outputs": [],
   "source": [
    "d.info()"
   ]
  },
  {
   "cell_type": "code",
   "execution_count": null,
   "id": "e4f8b7fa",
   "metadata": {},
   "outputs": [],
   "source": [
    "d.columns.values[15] = 'DEMORA CARGUE'"
   ]
  },
  {
   "cell_type": "code",
   "execution_count": null,
   "id": "785985ab",
   "metadata": {},
   "outputs": [],
   "source": [
    "data = pd.concat([data, d.iloc[:, 15]], axis=1)\n",
    "\n",
    "data.reset_index(drop=True, inplace=True)"
   ]
  },
  {
   "cell_type": "code",
   "execution_count": null,
   "id": "74c8c851",
   "metadata": {},
   "outputs": [],
   "source": [
    "# Observaciones para el caso de demoras en el reporte SICOQ\n",
    "data.drop(['Observaciones cargue y despacho'], axis='columns', inplace=True)\n"
   ]
  },
  {
   "cell_type": "code",
   "execution_count": null,
   "id": "dd9e4cf6",
   "metadata": {},
   "outputs": [],
   "source": [
    "data.info()"
   ]
  },
  {
   "cell_type": "code",
   "execution_count": null,
   "id": "b67d5abd",
   "metadata": {
    "scrolled": false
   },
   "outputs": [],
   "source": [
    "for col in data.columns:\n",
    "    print(\"=\"*5 + f\" {col} \" + \"=\"*20)\n",
    "    print(data[col].value_counts())\n",
    "    print()"
   ]
  },
  {
   "cell_type": "markdown",
   "id": "250465eb",
   "metadata": {},
   "source": [
    "## 7. Visualización de datos"
   ]
  },
  {
   "cell_type": "markdown",
   "id": "0546c089",
   "metadata": {},
   "source": [
    "### Variables de entrada"
   ]
  },
  {
   "cell_type": "code",
   "execution_count": null,
   "id": "da527bf3",
   "metadata": {},
   "outputs": [],
   "source": [
    "#Lista de variables categóricas\n",
    "catCols = data.select_dtypes(include = [\"object\", 'category']).columns.tolist()\n",
    "\n",
    "data[catCols].head()"
   ]
  },
  {
   "cell_type": "code",
   "execution_count": null,
   "id": "054caf9f",
   "metadata": {},
   "outputs": [],
   "source": [
    "#Lista de variables numéricas\n",
    "\n",
    "numCols=data.select_dtypes(include = ['float64','int32','int64']).columns.tolist()\n",
    "data[numCols].head()"
   ]
  },
  {
   "cell_type": "code",
   "execution_count": null,
   "id": "6378d17e",
   "metadata": {
    "scrolled": false
   },
   "outputs": [],
   "source": [
    "#Visualización de frecuencia de instancias para variables categóricas\n",
    "plot_multiples_graficas(data,catCols, 3, 3, 'c', None, (48,18))"
   ]
  },
  {
   "cell_type": "code",
   "execution_count": null,
   "id": "545824e3",
   "metadata": {},
   "outputs": [],
   "source": [
    "#Visualización de frecuencia de instancias para variables categóricas\n",
    "plot_multiples_graficas(data,['hora entrada', 'Peso Total'], 2, 1, 'c', None, (32,9))"
   ]
  },
  {
   "cell_type": "markdown",
   "id": "86b49ee0",
   "metadata": {},
   "source": [
    "### Variables de salida"
   ]
  },
  {
   "cell_type": "code",
   "execution_count": null,
   "id": "0af2cd38",
   "metadata": {},
   "outputs": [],
   "source": [
    "# Distriución de la variable de salida\n",
    "\n",
    "print(\"=\"*5 + f\" {col} \" + \"=\"*20)\n",
    "print(data['DEMORA CARGUE'].value_counts())"
   ]
  },
  {
   "cell_type": "markdown",
   "id": "c35380b5",
   "metadata": {},
   "source": [
    "## 8. Preparación de datos"
   ]
  },
  {
   "cell_type": "markdown",
   "id": "862350e2",
   "metadata": {},
   "source": [
    "Se hace verificación de presencia de nulos dentro del Dataset"
   ]
  },
  {
   "cell_type": "code",
   "execution_count": null,
   "id": "9b3f13d5",
   "metadata": {},
   "outputs": [],
   "source": [
    "# Identificación de valores nulos para las variables numéricas\n",
    "for col in data[numCols]:\n",
    "    print (col, np.sum(pd.isnull(data[col])))"
   ]
  },
  {
   "cell_type": "code",
   "execution_count": null,
   "id": "d651aaf9",
   "metadata": {},
   "outputs": [],
   "source": [
    "# Identificación de valores nulos para las variables categóricas\n",
    "for col in data[catCols]:\n",
    "    print (col, np.sum(pd.isnull(data[col])))"
   ]
  },
  {
   "cell_type": "markdown",
   "id": "e26b31e3",
   "metadata": {},
   "source": [
    "### Valores atípicos para las variables de entrada"
   ]
  },
  {
   "cell_type": "code",
   "execution_count": null,
   "id": "099a9021",
   "metadata": {},
   "outputs": [],
   "source": [
    "#utilización de LocalOutlierFactor con 11 vecinos para identificar valores atípicos en las variables de entrada\n",
    "\n",
    "\n",
    "# crear un objeto LocalOutlierFactor con n_neighbors=11\n",
    "lof = LocalOutlierFactor(n_neighbors=11, contamination=0.05)\n",
    "\n",
    "# identificar los valires atípicos por medio de lof \n",
    "y_pred = lof.fit_predict(data[numCols])\n",
    "\n",
    "# Identificar los índices de los valores atípicos\n",
    "outliers = y_pred == -1\n",
    "\n",
    "print('Indices de valores atípicos: ', data[outliers].index.tolist())"
   ]
  },
  {
   "cell_type": "code",
   "execution_count": null,
   "id": "99d06416",
   "metadata": {},
   "outputs": [],
   "source": [
    "# Eliminar los valores atípicos del dataframe original\n",
    "data = data.loc[~outliers]"
   ]
  },
  {
   "cell_type": "markdown",
   "id": "94a3eedf",
   "metadata": {},
   "source": [
    "### Transformaciones"
   ]
  },
  {
   "cell_type": "code",
   "execution_count": null,
   "id": "39cf517f",
   "metadata": {
    "scrolled": false
   },
   "outputs": [],
   "source": [
    "for col in data.columns:\n",
    "    print(\"=\"*5 + f\" {col} \" + \"=\"*20)\n",
    "    print(data[col].value_counts())\n",
    "    print()"
   ]
  },
  {
   "cell_type": "code",
   "execution_count": null,
   "id": "962639c9",
   "metadata": {},
   "outputs": [],
   "source": [
    "# Se crea una nueva categoria para las otras transportadoras\n",
    "\n",
    "data = data.replace({'VLIMAR': 'OTRA TRANSPORTADORA',\n",
    "                    'TRANSPORTE DIRECTO': 'OTRA TRANSPORTADORA', \n",
    "                    'COLTANQUES': 'OTRA TRANSPORTADORA',\n",
    "                    'INANTRA': 'OTRA TRANSPORTADORA',\n",
    "                    'ADISPETROL': 'OTRA TRANSPORTADORA'})"
   ]
  },
  {
   "cell_type": "code",
   "execution_count": null,
   "id": "1715c71d",
   "metadata": {},
   "outputs": [],
   "source": [
    "# Se unifican los productos cargados en granel, tambor, garrafa o IBC\n",
    "\n",
    "data = data.replace({'PISCICLOR GARRAFA X 20 lt': 'GARRAFA',\n",
    "                    'ACIDO CLORHIDRICO AL33%TBX55GL': 'TAMBOR', \n",
    "                    'AGROCLOR GARRAFA X 20 lt': 'GARRAFA', \n",
    "                    'HIPOCLORITO AL 15% TBX55G.(KG)': 'TAMBOR',\n",
    "                    'SODA CAUSTICA 20L': 'GARRAFA',\n",
    "                    'HIPOCLORITO IBC': 'IBC',\n",
    "                    'LABSA POR IBC': 'IBC',\n",
    "                    'LABSA BRENNTAG TAMBOR X 215 Kg': 'TAMBOR',\n",
    "                    'LABSA TAMBOR ME CLIENTE X 215 KG': 'TAMBOR',\n",
    "                    'ACIDO CLORHIDRICO AL33%X1000lt': 'IBC',\n",
    "                    'LABSA A GRANEL MAQUILAS': 'LABSA GRANEL',\n",
    "                    ' LABSA DISAN TAMBOR X 215 KG': 'TAMBOR',\n",
    "                    'ACIDO CLORHIDRICO AL33%TBX55GL': 'TAMBOR',\n",
    "                    'PISCICLOR HIPOCLORITO 15% X20': 'GARRAFA',\n",
    "                    'SODA CAUSTICA 1000 L': 'IBC',\n",
    "                    'LABSA GARRAFA': 'GARRAFA',\n",
    "                    'HIPOCLORITO AL 13% X 20 lt': 'GARRAFA'})"
   ]
  },
  {
   "cell_type": "code",
   "execution_count": null,
   "id": "f21d1191",
   "metadata": {},
   "outputs": [],
   "source": [
    "# Se agrupan los Operarios de cargue\n",
    "\n",
    "data['Operario de cargue'] = data['Operario de cargue'].replace({'DIEGO CASTAÑEDA': 'OTRO OPERARIO',\n",
    "                                                                'JEISSON PARDO': 'OTRO OPERARIO', \n",
    "                                                                'CRISTIAN VARGAS': 'OTRO OPERARIO', \n",
    "                                                                'EDGAR FORERO': 'OTRO OPERARIO',\n",
    "                                                                'CARLOS CASTILLO': 'OTRO OPERARIO',\n",
    "                                                                'YEISON PARDO': 'OTRO OPERARIO',\n",
    "                                                                'MARCOS GRANDE': 'OTRO OPERARIO',\n",
    "                                                                'JORGE ALDANA': 'OTRO OPERARIO',\n",
    "                                                                'EFORERO': 'OTRO OPERARIO'})"
   ]
  },
  {
   "cell_type": "code",
   "execution_count": null,
   "id": "87b4a67f",
   "metadata": {},
   "outputs": [],
   "source": [
    "# Se agrupan los Despachadores\n",
    "\n",
    "data['Despachador'] = data['Despachador'].replace({'OSCAR PACHON': 'OTRO DESPACHADOR',\n",
    "                                                    'MARCOS GRANDE': 'OTRO DESPACHADOR',\n",
    "                                                    'MIGUEL MORENO': 'OTRO DESPACHADOR',\n",
    "                                                    'CACASTILLO': 'CARLOS CASTILLO',\n",
    "                                                    'EFORERO': 'EDGAR FORERO'})"
   ]
  },
  {
   "cell_type": "code",
   "execution_count": null,
   "id": "8d925bab",
   "metadata": {
    "scrolled": false
   },
   "outputs": [],
   "source": [
    "for col in data.columns:\n",
    "    print(\"=\"*5 + f\" {col} \" + \"=\"*20)\n",
    "    print(data[col].value_counts())\n",
    "    print()"
   ]
  },
  {
   "cell_type": "markdown",
   "id": "7e335c65",
   "metadata": {},
   "source": [
    "### Sobremuestreo (oversampling)"
   ]
  },
  {
   "cell_type": "code",
   "execution_count": null,
   "id": "a64e767a",
   "metadata": {},
   "outputs": [],
   "source": [
    "# Se crea un objeto RandomOverSampler que permite crear copias aleatorias de las muestras de la clase \n",
    "# minoritaria para igualar el número de muestras entre las diferentes clases.\n",
    "oversampler = RandomOverSampler()\n",
    "\n",
    "# Se realiza el sobremuestreo para las variables de entrada y salida\n",
    "X_resampled, y_resampled = oversampler.fit_resample(data.drop('DEMORA CARGUE', axis=1), data['DEMORA CARGUE'])\n",
    "\n",
    "# Se crean dos dataframes con las variables de entrada y otro con la variable de salida a partir del proceso anterior\n",
    "df1 = pd.DataFrame(X_resampled, columns=data.columns.drop('DEMORA CARGUE'))\n",
    "df2 = pd.DataFrame(y_resampled)\n",
    "\n",
    "# Se concatenan los dataframes horizontalmente\n",
    "d = pd.concat([df1, df2], axis=1)"
   ]
  },
  {
   "cell_type": "code",
   "execution_count": null,
   "id": "82b43214",
   "metadata": {},
   "outputs": [],
   "source": [
    "# Dataset balanceado\n",
    "d.head()"
   ]
  },
  {
   "cell_type": "code",
   "execution_count": null,
   "id": "8ba4ecb9",
   "metadata": {},
   "outputs": [],
   "source": [
    "# Distriución de la variable de salida, ya balanceada\n",
    "\n",
    "print(\"=\"*5 + f\" {col} \" + \"=\"*20)\n",
    "print(d['DEMORA CARGUE'].value_counts())"
   ]
  },
  {
   "cell_type": "markdown",
   "id": "cf4fada8",
   "metadata": {},
   "source": [
    "## 9. Prueba dataset: Creación de un modelo"
   ]
  },
  {
   "cell_type": "code",
   "execution_count": null,
   "id": "8b193ca1",
   "metadata": {},
   "outputs": [],
   "source": [
    "# Aplicación de la función de get_dummies\n",
    "\n",
    "d =pd.get_dummies(d, drop_first=1)"
   ]
  },
  {
   "cell_type": "code",
   "execution_count": null,
   "id": "ce8327a4",
   "metadata": {},
   "outputs": [],
   "source": [
    "d.info()"
   ]
  },
  {
   "cell_type": "markdown",
   "id": "133570b3",
   "metadata": {},
   "source": [
    "## 10. Creación del modelo"
   ]
  },
  {
   "cell_type": "markdown",
   "id": "8a25af85",
   "metadata": {},
   "source": [
    "### Dividir el conjunto de datos"
   ]
  },
  {
   "cell_type": "code",
   "execution_count": null,
   "id": "035b0526",
   "metadata": {},
   "outputs": [],
   "source": [
    "#Se establece las variables de entrada 'X' y la variable de salida 'y'\n",
    "X = d.drop(columns ='DEMORA CARGUE')\n",
    "y = d['DEMORA CARGUE']"
   ]
  },
  {
   "cell_type": "code",
   "execution_count": null,
   "id": "845f5a07",
   "metadata": {},
   "outputs": [],
   "source": [
    "# Se crean los datasets de entrenamiento y prueba para las variables de entrada y salida \n",
    "\n",
    "X_train, X_test, y_train, y_test = train_test_split(\n",
    "                                        X,\n",
    "                                        y.values.reshape(-1,1), \n",
    "                                        train_size   = 0.8,\n",
    "                                        random_state = 123,\n",
    "                                        shuffle      = True\n",
    "                                    )"
   ]
  },
  {
   "cell_type": "markdown",
   "id": "f57c6285",
   "metadata": {},
   "source": [
    "### Escalar Variables"
   ]
  },
  {
   "cell_type": "code",
   "execution_count": null,
   "id": "5cec757d",
   "metadata": {},
   "outputs": [],
   "source": [
    "#Se establecen las variables numéricas a escalar\n",
    "\n",
    "#Num_vars se le asigna la lista con las variables numerivas para posteriormente escalarlas\n",
    "num_vars = numCols\n",
    "\n",
    "print(num_vars)"
   ]
  },
  {
   "cell_type": "code",
   "execution_count": null,
   "id": "be6aac7b",
   "metadata": {},
   "outputs": [],
   "source": [
    "#Escalar Variables númericas\n",
    "\n",
    "pd.set_option('display.float_format', lambda x: '%.4f' % x)\n",
    "\n",
    "# Se crea un objeto MinMaxScaler\n",
    "scaler = MinMaxScaler()\n",
    "\n",
    "# Se escalan los valores del dataset entrenamiento y prueba de las columnas numéricas\n",
    "X_train[num_vars] = scaler.fit_transform(X_train[num_vars])\n",
    "X_test[num_vars] = scaler.fit_transform(X_test[num_vars])\n",
    "\n",
    "X_train[num_vars].head()"
   ]
  },
  {
   "cell_type": "markdown",
   "id": "c7215ab5",
   "metadata": {},
   "source": [
    "## 11. SVM"
   ]
  },
  {
   "cell_type": "markdown",
   "id": "5636c1df",
   "metadata": {},
   "source": [
    "#### 11.1. Lineal y método de retención (*holdout method*)"
   ]
  },
  {
   "cell_type": "markdown",
   "id": "ec93b9c5",
   "metadata": {},
   "source": [
    "##### Creación y entrenamiento del modelo"
   ]
  },
  {
   "cell_type": "code",
   "execution_count": null,
   "id": "88dce88b",
   "metadata": {},
   "outputs": [],
   "source": [
    "#Creación del modelo \n",
    "\n",
    "modelSVC = svm.SVC(kernel='linear')\n",
    "\n",
    "#Entrenamiento del modelo con 80% de training\n",
    "modelSVC.fit(X_train, y_train)"
   ]
  },
  {
   "cell_type": "code",
   "execution_count": null,
   "id": "79f5e1e1",
   "metadata": {},
   "outputs": [],
   "source": [
    "y_pred = modelSVC.predict(X_test)"
   ]
  },
  {
   "cell_type": "markdown",
   "id": "fc344803",
   "metadata": {},
   "source": [
    "##### Evaluación del modelo"
   ]
  },
  {
   "cell_type": "code",
   "execution_count": null,
   "id": "184e953e",
   "metadata": {},
   "outputs": [],
   "source": [
    "# Crear matriz de confusión\n",
    "conf_mat = confusion_matrix(y_test, y_pred)\n",
    "\n",
    "# Crear figura y ejes\n",
    "fig, ax = plt.subplots(figsize=(6,4))\n",
    "\n",
    "# Crear mapa de calor de la matriz de confusión con Seaborn\n",
    "sns.heatmap(conf_mat\n",
    "            , annot=True  # agregar valores en cada celda\n",
    "            , fmt='d'    # formato de los valores (d = decimal)\n",
    "           )\n",
    "\n",
    "# Agregar etiquetas a los ejes x e y\n",
    "plt.ylabel('Actual')\n",
    "plt.xlabel('Predicted')\n",
    "\n",
    "# Mostrar la figura\n",
    "plt.show()\n",
    "\n",
    "# Se imprimen las medidas de rendimiento del modelo\n",
    "print(metrics.classification_report(y_test, y_pred))"
   ]
  },
  {
   "cell_type": "code",
   "execution_count": null,
   "id": "d32f39ae",
   "metadata": {},
   "outputs": [],
   "source": [
    "#f1-Score\n",
    "print(\"f1-score:\",metrics.f1_score(y_test, y_pred))"
   ]
  },
  {
   "cell_type": "markdown",
   "id": "1300f862",
   "metadata": {},
   "source": [
    "#### 11.2. Lineal y validación cruzada (*Cross validation*)"
   ]
  },
  {
   "cell_type": "markdown",
   "id": "20c83737",
   "metadata": {},
   "source": [
    "##### Creación y entrenamiento del modelo"
   ]
  },
  {
   "cell_type": "code",
   "execution_count": null,
   "id": "c4f86690",
   "metadata": {},
   "outputs": [],
   "source": [
    "#Se establece las variables de entrada 'X' y la variable de salida 'y'\n",
    "\n",
    "X = d.drop(columns ='DEMORA CARGUE')\n",
    "y = d['DEMORA CARGUE']\n",
    "\n",
    "# la validación cruzada se realiza sobre todo el dataset\n",
    "X_Completo = X\n",
    "y_Completo = y"
   ]
  },
  {
   "cell_type": "code",
   "execution_count": null,
   "id": "658d41b1",
   "metadata": {},
   "outputs": [],
   "source": [
    "#Se establecen las variables numéricas a escalar\n",
    "\n",
    "#Num_vars se le asigna la lista con las variables numerivas para posteriormente escalarlas\n",
    "num_vars = numCols\n",
    "\n",
    "# Se crea un objeto MinMaxScaler\n",
    "scaler = MinMaxScaler()\n",
    "\n",
    "# Se escalan los valores del dataset entrenamiento y prueba de las columnas numéricas\n",
    "X_Completo[num_vars] = scaler.fit_transform(X_Completo[num_vars])\n",
    "\n",
    "X_Completo[num_vars].head()"
   ]
  },
  {
   "cell_type": "code",
   "execution_count": null,
   "id": "276c0a42",
   "metadata": {},
   "outputs": [],
   "source": [
    "CV = 10 #Folks:  Pliegues\n",
    "scoring = 'f1'\n",
    "\n",
    "\n",
    "entries = []\n",
    "accuracies = cross_val_score(modelSVC, X_Completo, y_Completo, cv=CV, scoring=scoring)\n",
    "\n",
    "for fold_idx, accuracy in enumerate(accuracies):\n",
    "    entries.append(( fold_idx, accuracy))\n",
    "cv_df = pd.DataFrame(entries, columns=['fold_idx', 'f1-Score'])"
   ]
  },
  {
   "cell_type": "markdown",
   "id": "cd8958eb",
   "metadata": {},
   "source": [
    "#### Evaluación del modelo"
   ]
  },
  {
   "cell_type": "code",
   "execution_count": null,
   "id": "b18cd2ac",
   "metadata": {},
   "outputs": [],
   "source": [
    "print(cv_df)\n",
    "print('f1-score:', cv_df['f1-Score'].mean())"
   ]
  },
  {
   "cell_type": "markdown",
   "id": "78d988d9",
   "metadata": {
    "id": "hEPyi5SgQRor"
   },
   "source": [
    "## 12. Afinando el modelo SVM (tuning)"
   ]
  },
  {
   "cell_type": "markdown",
   "id": "cca7402d",
   "metadata": {
    "id": "EeTSrSR2QRor"
   },
   "source": [
    "Entre sus parámetros, encontramos:\n",
    "\n",
    "- C: parámetro de regularización.\n",
    "- kernel: especifica el tipo de kernel usado por el algoritmo (lineal, polinómico, radial, etc.).\n",
    "- degree: grado de la función con kernel polinómico.\n",
    "- gamma: coeficiente del kernel para ‘rbf’, ‘poly’ y ‘sigmoid’.\n",
    "- probability: indica si se permite la estimación de probabilidades.\n",
    "- max_iter: límite de iteraciones.\n",
    "- decision_function_shape: permite establecer el método one-vs-one o one-vs-all.\n",
    "- random_state: semilla para el generador de número pseudoaleatorios."
   ]
  },
  {
   "cell_type": "markdown",
   "id": "d69f423f",
   "metadata": {
    "id": "ZiR8vzsrQRor"
   },
   "source": [
    "El parámetro \"C\" es el inverso del parámetro λ de regularización por lo cual, si tenemos un valor alto de nuestro parámetro tendremos una mayor varianza y la regularización será menor, mientras que por el contrario, si tenemos un valor bajo, tendremos un mayor efecto de la regularización. Ver: https://dzone.com/articles/support-vector-machines-tutorial"
   ]
  },
  {
   "cell_type": "markdown",
   "id": "045ce8ef",
   "metadata": {},
   "source": [
    "#### 12.1. Lineal e hiperparámetro *C*  (con validación cruzada - *Cross validation*"
   ]
  },
  {
   "cell_type": "markdown",
   "id": "73e1603f",
   "metadata": {},
   "source": [
    "##### Identificacion del mejor hiperparametro *C*"
   ]
  },
  {
   "cell_type": "code",
   "execution_count": null,
   "id": "1e8f9fe5",
   "metadata": {},
   "outputs": [],
   "source": [
    "#1 Creacion del modelo\n",
    "svmL = svm.SVC(kernel='linear', random_state = 0)\n",
    "\n",
    "# Establecemos un grid con los valores de coste que queremos evaluar\n",
    "grid_hiperparametros = {'C': [0.0001, 0.001, 0.01, 0.1, 1, 10, 100]} \n",
    "\n",
    "# definicion de la variable con el número de pliegues\n",
    "CV = 10\n",
    "\n",
    "# las metricas sobre las se evaluará el modelo\n",
    "metricas = 'f1'\n",
    "\n",
    "# Definimos la busqueda mediante 10-fold CV\n",
    "busqueda_grid = GridSearchCV(estimator = svmL\n",
    "                             , param_grid = grid_hiperparametros \n",
    "                             , cv = CV\n",
    "                             , scoring = metricas\n",
    "                             , return_train_score = True\n",
    "                             , verbose=4\n",
    "                             , n_jobs=-1)\n",
    "\n",
    "\n",
    "# Aplicamos la busqueda\n",
    "busqueda_grid.fit(X_Completo, y_Completo)\n",
    "\n",
    "#busqueda_grid.cv_results_.keys()"
   ]
  },
  {
   "cell_type": "code",
   "execution_count": null,
   "id": "9f31f643",
   "metadata": {},
   "outputs": [],
   "source": [
    "#2 Almacenamos en variables los resultados de la busqueda grid\n",
    "C_cv = busqueda_grid.cv_results_['param_C'].tolist()\n",
    "\n",
    "f1_medio_cv = busqueda_grid.cv_results_['mean_test_score'].tolist()\n",
    "f1_std_cv   = busqueda_grid.cv_results_['std_test_score'].tolist()"
   ]
  },
  {
   "cell_type": "code",
   "execution_count": null,
   "id": "90e98e2e",
   "metadata": {},
   "outputs": [],
   "source": [
    "#3 Generamos un data frame con los resultados de la validacion cruzada\n",
    "df_resultados_cv = pd.DataFrame({'C': C_cv, \n",
    "                                 'mean_test_f1-score': f1_medio_cv,\n",
    "                                 'std_test_f1-score': f1_std_cv})\n",
    "\n",
    "print(df_resultados_cv)\n",
    "\n",
    "# Mejores hiperparametros sobre los datos hold-out\n",
    "print('Valor de coste y grado óptimos:', busqueda_grid.best_params_)"
   ]
  },
  {
   "cell_type": "markdown",
   "id": "314460e8",
   "metadata": {},
   "source": [
    "##### Creación y entrenamiento del modelo"
   ]
  },
  {
   "cell_type": "code",
   "execution_count": null,
   "id": "3f5e8095",
   "metadata": {},
   "outputs": [],
   "source": [
    "#4 Ajustamos el modelo SVM lineal usando el valor de coste óptimo obtenido en cv\n",
    "modelo_svmL = svm.SVC(kernel='linear', \n",
    "                      C = busqueda_grid.best_params_.get('C'), #C=0.001\n",
    "                      random_state = 0) # semilla"
   ]
  },
  {
   "cell_type": "code",
   "execution_count": null,
   "id": "97228f8c",
   "metadata": {},
   "outputs": [],
   "source": [
    "#5\n",
    "CV = 10 #Folks:  Pliegues\n",
    "scoring = 'f1' \n",
    "\n",
    "entries = []\n",
    "accuracies = cross_val_score(modelo_svmL, X_Completo, y_Completo,cv=CV, scoring=scoring)\n",
    "\n",
    "for fold_idx, accuracy in enumerate(accuracies):\n",
    "    entries.append(( fold_idx, accuracy))\n",
    "cv_dfl = pd.DataFrame(entries, columns=['fold_idx', 'f1-Score'])"
   ]
  },
  {
   "cell_type": "markdown",
   "id": "52c257fb",
   "metadata": {},
   "source": [
    "#### Evaluación del modelo"
   ]
  },
  {
   "cell_type": "code",
   "execution_count": null,
   "id": "8f46a537",
   "metadata": {},
   "outputs": [],
   "source": [
    "#6\n",
    "print(cv_dfl)\n",
    "print('f1-Score:', cv_dfl['f1-Score'].mean())"
   ]
  },
  {
   "cell_type": "markdown",
   "id": "56c8489f",
   "metadata": {
    "id": "uqmDeS6uQRov"
   },
   "source": [
    "#### 12.2. Polinómico e hiperparámetros: *C* y *degree*  (con validación cruzada  - *Cross validation*)"
   ]
  },
  {
   "cell_type": "markdown",
   "id": "746dbdcb",
   "metadata": {},
   "source": [
    "##### Identificación del mejor hiperparametro *C* y *degree*"
   ]
  },
  {
   "cell_type": "code",
   "execution_count": null,
   "id": "238475e6",
   "metadata": {},
   "outputs": [],
   "source": [
    "#1 Creacion del modelo\n",
    "svmP = svm.SVC(kernel='poly', random_state = 0)\n",
    "\n",
    "# Establecemos un grid con los valores de coste que queremos evaluar\n",
    "grid_hiperparametros = {'C': [0.0001, 0.001, 0.01, 0.1, 1, 10, 100],\n",
    "                        'degree': [2, 3]} \n",
    "\n",
    "# definicion de la variable con el número de pliegues\n",
    "CV = 10\n",
    "\n",
    "# las metricas sobre las se evaluará el modelo\n",
    "metricas = 'f1'\n",
    "\n",
    "# Definimos la busqueda mediante 10-fold CV\n",
    "busqueda_grid = GridSearchCV(estimator = svmP \n",
    "                             , param_grid = grid_hiperparametros \n",
    "                             , cv = CV\n",
    "                             , scoring = metricas\n",
    "                             , return_train_score = True\n",
    "                             , verbose=4\n",
    "                             , n_jobs=-1)\n",
    "\n",
    "\n",
    "# Aplicamos la busqueda\n",
    "busqueda_grid.fit(X_Completo, y_Completo)"
   ]
  },
  {
   "cell_type": "code",
   "execution_count": null,
   "id": "ab12f851",
   "metadata": {},
   "outputs": [],
   "source": [
    "#2 Almacenamos en variables los resultados de la busqueda grid\n",
    "C_cv = busqueda_grid.cv_results_['param_C'].tolist()\n",
    "degree_cv = busqueda_grid.cv_results_['param_degree'].tolist()\n",
    "\n",
    "f1_medio_cv = busqueda_grid.cv_results_['mean_test_score'].tolist()\n",
    "f1_std_cv = busqueda_grid.cv_results_['std_test_score'].tolist()"
   ]
  },
  {
   "cell_type": "code",
   "execution_count": null,
   "id": "2a92cb42",
   "metadata": {},
   "outputs": [],
   "source": [
    "#3 Generamos un data frame con los resultados de la validacion cruzada\n",
    "df_resultados_cv = pd.DataFrame({'C': C_cv, \n",
    "                                 'degree': degree_cv, \n",
    "                                 'mean_test_f1-score': f1_medio_cv,\n",
    "                                 'std_test_f1-score': f1_std_cv})\n",
    "                                 \n",
    "print(df_resultados_cv)\n",
    "\n",
    "# Mejores hiperparametros sobre los datos hold-out\n",
    "print('Valor de coste y grado óptimos:', busqueda_grid.best_params_)"
   ]
  },
  {
   "cell_type": "markdown",
   "id": "08583f4c",
   "metadata": {},
   "source": [
    "#### Creación y entrenamiento del modelo"
   ]
  },
  {
   "cell_type": "code",
   "execution_count": null,
   "id": "fb84c8d1",
   "metadata": {},
   "outputs": [],
   "source": [
    "#4 Ajustamos el modelo SVM lineal usando el valor de coste óptimo obtenido en cv\n",
    "modelo_svmP = svm.SVC(kernel = 'poly', \n",
    "                      C = busqueda_grid.best_params_.get('C'), #C=0.1\n",
    "                      degree = busqueda_grid.best_params_.get('degree'), #degree=2\n",
    "                      random_state = 0) # semilla"
   ]
  },
  {
   "cell_type": "code",
   "execution_count": null,
   "id": "e8a74bb7",
   "metadata": {},
   "outputs": [],
   "source": [
    "#5\n",
    "CV = 10 #Folks:  Pliegues\n",
    "scoring = 'f1' \n",
    "\n",
    "\n",
    "entries = []\n",
    "accuracies = cross_val_score(modelo_svmP, X_Completo, y_Completo, cv=CV, scoring=scoring)\n",
    "\n",
    "for fold_idx, accuracy in enumerate(accuracies):\n",
    "    entries.append(( fold_idx, accuracy))\n",
    "cv_dfP = pd.DataFrame(entries, columns=['fold_idx', 'f1-Score'])"
   ]
  },
  {
   "cell_type": "markdown",
   "id": "8f8231b8",
   "metadata": {},
   "source": [
    "#### Evaluación del modelo"
   ]
  },
  {
   "cell_type": "code",
   "execution_count": null,
   "id": "2f5a1e67",
   "metadata": {},
   "outputs": [],
   "source": [
    "#6\n",
    "print(cv_dfP)\n",
    "print('f1-score', cv_dfP['f1-Score'].mean())"
   ]
  },
  {
   "cell_type": "markdown",
   "id": "d09c6612",
   "metadata": {},
   "source": [
    "#### 12.3. Radial e hiperparámetros: *C* y *gamma*  (con validación cruzada  - *Cross validation*)"
   ]
  },
  {
   "cell_type": "markdown",
   "id": "4b26583c",
   "metadata": {},
   "source": [
    "##### Identificación del mejor hiperparametro *C* y *gamma*"
   ]
  },
  {
   "cell_type": "code",
   "execution_count": null,
   "id": "e41b8331",
   "metadata": {},
   "outputs": [],
   "source": [
    "#1 Creacion del modelo\n",
    "svmR = svm.SVC(kernel='rbf', random_state = 0)\n",
    "\n",
    "\n",
    "\n",
    "# Establecemos un grid con los valores de coste que queremos evaluar\n",
    "grid_hiperparametros = {'C': [0.0001, 0.001, 0.01, 0.1, 1, 10, 100],\n",
    "                        'gamma': [0.001, 0.01, 0.1, 1, 3, 5]} \n",
    "                        \n",
    "# definicion de la variable con el número de pliegues\n",
    "CV = 10\n",
    "\n",
    "# Definimos las metricas sobre las que queremos evaluar\n",
    "metricas = 'f1'\n",
    "\n",
    "# Definimos la busqueda mediante 10-fold CV\n",
    "busqueda_grid = GridSearchCV(estimator = svmR\n",
    "                             , param_grid = grid_hiperparametros \n",
    "                             , cv = CV\n",
    "                             , scoring = metricas\n",
    "                             , return_train_score = True\n",
    "                             , verbose=4\n",
    "                             , n_jobs=-1)\n",
    "\n",
    "\n",
    "# Aplicamos la busqueda\n",
    "busqueda_grid.fit(X_Completo, y_Completo)"
   ]
  },
  {
   "cell_type": "code",
   "execution_count": null,
   "id": "8e284645",
   "metadata": {},
   "outputs": [],
   "source": [
    "#2 Almacenamos en variables los resultados de la busqueda grid\n",
    "C_cv = busqueda_grid.cv_results_['param_C'].tolist()\n",
    "gamma_cv = busqueda_grid.cv_results_['param_gamma'].tolist()\n",
    "\n",
    "f1_medio_cv = busqueda_grid.cv_results_['mean_test_score'].tolist()\n",
    "f1_std_cv = busqueda_grid.cv_results_['std_test_score'].tolist()"
   ]
  },
  {
   "cell_type": "code",
   "execution_count": null,
   "id": "e3c0032d",
   "metadata": {},
   "outputs": [],
   "source": [
    "#3 Generamos un data frame con los resultados de la validacion cruzada\n",
    "df_resultados_cv = pd.DataFrame({'C': C_cv, \n",
    "                                 'gamma': gamma_cv, \n",
    "                                 'mean_test_f1-score': f1_medio_cv,\n",
    "                                 'std_test_f1-score': f1_std_cv})\n",
    "                                 \n",
    "print(df_resultados_cv)\n",
    "\n",
    "# Mejores hiperparametros sobre los datos hold-out\n",
    "print('Valor de coste y gamma óptimos:', busqueda_grid.best_params_)"
   ]
  },
  {
   "cell_type": "markdown",
   "id": "534e4c69",
   "metadata": {},
   "source": [
    "##### Creación y entrenamiento del modelo"
   ]
  },
  {
   "cell_type": "code",
   "execution_count": null,
   "id": "2fb07a96",
   "metadata": {},
   "outputs": [],
   "source": [
    "#4 Ajustamos el modelo SVM lineal usando el valor de coste óptimo obtenido en cv\n",
    "modelo_svmR = svm.SVC(kernel = 'rbf', \n",
    "                      C = busqueda_grid.best_params_.get('C'), #C=0.1\n",
    "                      gamma = busqueda_grid.best_params_.get('gamma'), #gamma=0.01\n",
    "                      random_state = 0) # semilla  "
   ]
  },
  {
   "cell_type": "code",
   "execution_count": null,
   "id": "1a3f6831",
   "metadata": {},
   "outputs": [],
   "source": [
    "#5\n",
    "CV = 10 #Folks:  Pliegues\n",
    "scoring = 'f1' \n",
    "\n",
    "\n",
    "entries = []\n",
    "accuracies = cross_val_score(modelo_svmR, X_Completo, y_Completo, cv=CV, scoring=scoring)\n",
    "\n",
    "for fold_idx, accuracy in enumerate(accuracies):\n",
    "    entries.append(( fold_idx, accuracy))\n",
    "cv_dfR = pd.DataFrame(entries, columns=['fold_idx', 'f1-Score'])"
   ]
  },
  {
   "cell_type": "markdown",
   "id": "887ee5da",
   "metadata": {},
   "source": [
    "#### Evaluación del modelo"
   ]
  },
  {
   "cell_type": "code",
   "execution_count": null,
   "id": "c1fa9ee3",
   "metadata": {},
   "outputs": [],
   "source": [
    "#6\n",
    "print(cv_dfR)\n",
    "print('f1-score', cv_dfR['f1-Score'].mean())"
   ]
  },
  {
   "cell_type": "markdown",
   "id": "6cc5aecb",
   "metadata": {},
   "source": [
    "#### 12.4. Sigmoide e hiperparámetros: *C* y *gamma*  (con validación cruzada  - *Cross validation*)"
   ]
  },
  {
   "cell_type": "markdown",
   "id": "dbb83dfa",
   "metadata": {},
   "source": [
    "##### Identificación del mejor hiperparametro *C* y *gamma*"
   ]
  },
  {
   "cell_type": "code",
   "execution_count": null,
   "id": "b26a82ad",
   "metadata": {},
   "outputs": [],
   "source": [
    "#1 Creacion del modelo\n",
    "svmS = svm.SVC(kernel='sigmoid', random_state = 0)\n",
    "\n",
    "\n",
    "# Establecemos un grid con los valores de coste que queremos evaluar\n",
    "grid_hiperparametros = {'C': [0.0001, 0.001, 0.01, 0.1, 10, 100],\n",
    "                        'gamma': [0.001, 0.01, 0.1, 1, 3, 5]} \n",
    "                        \n",
    "# definicion de la variable con el número de pliegues\n",
    "CV = 10\n",
    "\n",
    "# Definimos las metricas sobre las que queremos evaluar\n",
    "metricas = 'f1'\n",
    "\n",
    "# Definimos la busqueda mediante 10-fold CV\n",
    "busqueda_grid = GridSearchCV(estimator = svmS\n",
    "                             , param_grid = grid_hiperparametros \n",
    "                             , cv = CV\n",
    "                             , scoring = metricas\n",
    "                             , return_train_score = True\n",
    "                             , verbose=4\n",
    "                             , n_jobs=-1)\n",
    "\n",
    "\n",
    "# Aplicamos la busqueda\n",
    "busqueda_grid.fit(X_Completo, y_Completo)"
   ]
  },
  {
   "cell_type": "markdown",
   "id": "4c996a1f",
   "metadata": {},
   "source": [
    "##### Identificación del mejor hiperparametro *C* y *gamma*"
   ]
  },
  {
   "cell_type": "code",
   "execution_count": null,
   "id": "ca527902",
   "metadata": {},
   "outputs": [],
   "source": [
    "#2 Almacenamos en variables los resultados de la busqueda grid\n",
    "C_cv = busqueda_grid.cv_results_['param_C'].tolist()\n",
    "gamma_cv = busqueda_grid.cv_results_['param_gamma'].tolist()\n",
    "\n",
    "f1_medio_cv = busqueda_grid.cv_results_['mean_test_score'].tolist()\n",
    "f1_std_cv = busqueda_grid.cv_results_['std_test_score'].tolist()"
   ]
  },
  {
   "cell_type": "code",
   "execution_count": null,
   "id": "897fd67a",
   "metadata": {},
   "outputs": [],
   "source": [
    "#3 Generamos un data frame con los resultados de la validacion cruzada\n",
    "df_resultados_cv = pd.DataFrame({'C': C_cv, \n",
    "                                 'gamma': gamma_cv, \n",
    "                                 'mean_test_f1-score': f1_medio_cv,\n",
    "                                 'std_test_f1-score': f1_std_cv})\n",
    "                                 \n",
    "print(df_resultados_cv)\n",
    "\n",
    "# Mejores hiperparametros sobre los datos hold-out\n",
    "print('Valor de coste y gamma óptimos:', busqueda_grid.best_params_)"
   ]
  },
  {
   "cell_type": "markdown",
   "id": "1080c924",
   "metadata": {},
   "source": [
    "##### Creación y entrenamiento del modelo"
   ]
  },
  {
   "cell_type": "code",
   "execution_count": null,
   "id": "8cd423b7",
   "metadata": {},
   "outputs": [],
   "source": [
    "#4 Ajustamos el modelo SVM sigmoide usando el valor de coste óptimo obtenido en cv\n",
    "modelo_svmS = svm.SVC(kernel = 'sigmoid', \n",
    "                      C = busqueda_grid.best_params_.get('C'), #C=0.1\n",
    "                      gamma = busqueda_grid.best_params_.get('gamma'), #gamma=0.1\n",
    "                      random_state = 0,\n",
    "                        probability=True) # semilla "
   ]
  },
  {
   "cell_type": "code",
   "execution_count": null,
   "id": "44017e96",
   "metadata": {},
   "outputs": [],
   "source": [
    "#5\n",
    "CV = 10 #Folks:  Pliegues\n",
    "scoring = 'f1' \n",
    "\n",
    "\n",
    "entries = []\n",
    "accuracies = cross_val_score(modelo_svmS, X_Completo, y_Completo, cv=CV, scoring=scoring)\n",
    "\n",
    "for fold_idx, accuracy in enumerate(accuracies):\n",
    "    entries.append(( fold_idx, accuracy))\n",
    "cv_dfS = pd.DataFrame(entries, columns=['fold_idx', 'f1-Score'])"
   ]
  },
  {
   "cell_type": "markdown",
   "id": "40159ba8",
   "metadata": {},
   "source": [
    "#### Evaluación del modelo"
   ]
  },
  {
   "cell_type": "code",
   "execution_count": null,
   "id": "b5436be3",
   "metadata": {},
   "outputs": [],
   "source": [
    "#6\n",
    "print(cv_dfS)\n",
    "print('f1-score', cv_dfS['f1-Score'].mean())"
   ]
  },
  {
   "cell_type": "markdown",
   "id": "f8f4388b",
   "metadata": {},
   "source": [
    "### 13. Eligiendo el modelo SVM"
   ]
  },
  {
   "cell_type": "code",
   "execution_count": null,
   "id": "68a156b2",
   "metadata": {},
   "outputs": [],
   "source": [
    "print('f1-Score')\n",
    "print('==================================================================')\n",
    "print('Lineal                                  :', cv_df['f1-Score'].mean().round(4))\n",
    "print('Lineal e hiperparámetro C               :', cv_dfl['f1-Score'].mean().round(4))\n",
    "print('Polinómico e hiperparámetros: C y degree:', cv_dfP['f1-Score'].mean().round(4))\n",
    "print('Radial e hiperparámetros: C y gamma     :', cv_dfR['f1-Score'].mean().round(4))\n",
    "print('Sigmoide e hiperparámetros: C y gamma   :', cv_dfS['f1-Score'].mean().round(4))"
   ]
  },
  {
   "cell_type": "code",
   "execution_count": null,
   "id": "09aa0c33",
   "metadata": {},
   "outputs": [],
   "source": [
    "#Entrenamiento modelo SVM Radial\n",
    "modelo_svmR.fit(X_train, y_train)\n",
    "y_pred = modelo_svmR.predict(X_test)"
   ]
  },
  {
   "cell_type": "code",
   "execution_count": null,
   "id": "89109e8f",
   "metadata": {},
   "outputs": [],
   "source": [
    "# Crear matriz de confusión\n",
    "conf_mat = confusion_matrix(y_test, y_pred)\n",
    "\n",
    "# Crear figura y ejes\n",
    "fig, ax = plt.subplots(figsize=(6,4))\n",
    "\n",
    "# Crear mapa de calor de la matriz de confusión con Seaborn\n",
    "sns.heatmap(conf_mat\n",
    "            , annot=True  # agregar valores en cada celda\n",
    "            , fmt='d'    # formato de los valores (d = decimal)\n",
    "           )\n",
    "\n",
    "# Agregar etiquetas a los ejes x e y\n",
    "plt.ylabel('Actual')\n",
    "plt.xlabel('Predicted')\n",
    "\n",
    "# Mostrar la figura\n",
    "plt.show()\n",
    "\n",
    "# Se imprimen las medidas de rendimiento del modelo\n",
    "print(metrics.classification_report(y_test, y_pred))"
   ]
  },
  {
   "cell_type": "code",
   "execution_count": null,
   "id": "3978f047",
   "metadata": {},
   "outputs": [],
   "source": [
    "#Entrenamiento modelo SVM Sigmoide\n",
    "modelo_svmS.fit(X_train, y_train)\n",
    "y_pred = modelo_svmS.predict(X_test)"
   ]
  },
  {
   "cell_type": "code",
   "execution_count": null,
   "id": "4bee66c9",
   "metadata": {},
   "outputs": [],
   "source": [
    "# Crear matriz de confusión\n",
    "conf_mat = confusion_matrix(y_test, y_pred)\n",
    "\n",
    "# Crear figura y ejes\n",
    "fig, ax = plt.subplots(figsize=(6,4))\n",
    "\n",
    "# Crear mapa de calor de la matriz de confusión con Seaborn\n",
    "sns.heatmap(conf_mat\n",
    "            , annot=True  # agregar valores en cada celda\n",
    "            , fmt='d'    # formato de los valores (d = decimal)\n",
    "           )\n",
    "\n",
    "# Agregar etiquetas a los ejes x e y\n",
    "plt.ylabel('Actual')\n",
    "plt.xlabel('Predicted')\n",
    "\n",
    "# Mostrar la figura\n",
    "plt.show()\n",
    "\n",
    "# Se imprimen las medidas de rendimiento del modelo\n",
    "print(metrics.classification_report(y_test, y_pred))"
   ]
  },
  {
   "cell_type": "code",
   "execution_count": null,
   "id": "afe1a955",
   "metadata": {},
   "outputs": [],
   "source": [
    "# Predecir las etiquetas de clase usando el modelo de regresión logística entrenado\n",
    "predicted_labels = modelo_svmR.predict(X_test)\n",
    "\n",
    "# Calcular el área bajo la curva ROC\n",
    "auc = roc_auc_score(y_test, predicted_labels)\n",
    "\n",
    "# Imprimir el valor del AUC\n",
    "print('AUC: %.2f' % auc)\n",
    "\n",
    "# Calcular la curva ROC usando los valores verdaderos y las etiquetas predichas\n",
    "fpr, tpr, thresholds = roc_curve(y_test, predicted_labels)\n",
    "\n",
    "# Graficar la curva ROC\n",
    "plot_roc_curve(fpr, tpr)"
   ]
  },
  {
   "cell_type": "markdown",
   "id": "1f36bc09",
   "metadata": {},
   "source": [
    "## 13. Random Forest"
   ]
  },
  {
   "cell_type": "markdown",
   "id": "c324b28e",
   "metadata": {},
   "source": [
    "### 13.1 Grid Search basado en out-of-bag score"
   ]
  },
  {
   "cell_type": "code",
   "execution_count": null,
   "id": "965f10db",
   "metadata": {},
   "outputs": [],
   "source": [
    "# Grid de hiperparámetros evaluados\n",
    "\n",
    "# oob_score = bootstrap\n",
    "# ==============================================================================\n",
    "param_grid = ParameterGrid(\n",
    "                {'n_estimators': [150],\n",
    "                 'max_features': [5, 7, 9],\n",
    "                 'max_depth'   : [None, 3, 10, 20],\n",
    "                 'criterion'   : ['gini', 'entropy']\n",
    "                }\n",
    "            )\n",
    "\n",
    "# Loop para ajustar un modelo con cada combinación de hiperparámetros\n",
    "# ==============================================================================\n",
    "resultados = {'params': [], 'oob_accuracy': []}\n",
    "\n",
    "for params in param_grid:\n",
    "    \n",
    "    \n",
    "    modelo = RandomForestClassifier(\n",
    "                oob_score    = True,\n",
    "                n_jobs       = -1,\n",
    "                random_state = 123,\n",
    "                ** params\n",
    "             )\n",
    "    \n",
    "    modelo.fit(X_train, y_train)\n",
    "    \n",
    "    \n",
    "    resultados['params'].append(params)\n",
    "    resultados['oob_accuracy'].append(modelo.oob_score_)\n",
    "    print(f\"Modelo: {params} \\u2713\")\n",
    "\n",
    "# Resultados\n",
    "# ==============================================================================\n",
    "resultados = pd.DataFrame(resultados)\n",
    "resultados = pd.concat([resultados, resultados['params'].apply(pd.Series)], axis=1)\n",
    "resultados = resultados.sort_values('oob_accuracy', ascending=False)\n",
    "resultados = resultados.drop(columns = 'params')"
   ]
  },
  {
   "cell_type": "code",
   "execution_count": null,
   "id": "3e7ec5f5",
   "metadata": {},
   "outputs": [],
   "source": [
    "resultados.head()"
   ]
  },
  {
   "cell_type": "markdown",
   "id": "77ba30f7",
   "metadata": {},
   "source": [
    "### 13.2 Grid Search basado en validación cruzada"
   ]
  },
  {
   "cell_type": "code",
   "execution_count": null,
   "id": "8f8ff21b",
   "metadata": {},
   "outputs": [],
   "source": [
    "# Grid de hiperparámetros evaluados\n",
    "# ==============================================================================\n",
    "param_grid = {'n_estimators': [150],\n",
    "              'max_features': [5, 7, 9],\n",
    "              'max_depth'   : [None, 3, 10, 20],\n",
    "              'criterion'   : ['gini', 'entropy']\n",
    "             }\n",
    "\n",
    "# Búsqueda por grid search con validación cruzada\n",
    "# ==============================================================================\n",
    "grid = GridSearchCV(\n",
    "        estimator  = RandomForestClassifier(random_state = 123),\n",
    "        param_grid = param_grid,\n",
    "        scoring    = 'accuracy',\n",
    "        n_jobs     = - 1,\n",
    "        refit      = True,\n",
    "        verbose    = 0,\n",
    "        return_train_score = True\n",
    "       )\n",
    "\n",
    "grid.fit(X = X_train, y = y_train)\n",
    "\n",
    "# Resultados\n",
    "# ==============================================================================\n",
    "resultados = pd.DataFrame(grid.cv_results_)\n",
    "resultados.filter(regex = '(param*|mean_t|std_t)') \\\n",
    "    .drop(columns = 'params') \\\n",
    "    .sort_values('mean_test_score', ascending = False) \\\n",
    "    .head(4)"
   ]
  },
  {
   "cell_type": "code",
   "execution_count": null,
   "id": "9c7efea6",
   "metadata": {},
   "outputs": [],
   "source": [
    "# Mejores hiperparámetros por validación cruzada\n",
    "# ==============================================================================\n",
    "print(\"----------------------------------------\")\n",
    "print(\"Mejores hiperparámetros encontrados (cv)\")\n",
    "print(\"----------------------------------------\")\n",
    "print(grid.best_params_, \":\", grid.best_score_, grid.scoring)"
   ]
  },
  {
   "cell_type": "code",
   "execution_count": null,
   "id": "ed4a0c9b",
   "metadata": {},
   "outputs": [],
   "source": [
    "modelo_final = grid.best_estimator_"
   ]
  },
  {
   "cell_type": "code",
   "execution_count": null,
   "id": "5cc27818",
   "metadata": {},
   "outputs": [],
   "source": [
    "modelo_final"
   ]
  },
  {
   "cell_type": "code",
   "execution_count": null,
   "id": "32daea96",
   "metadata": {},
   "outputs": [],
   "source": [
    "# Error de test del modelo final\n",
    "# ==============================================================================\n",
    "y_pred = modelo_final.predict(X_test)"
   ]
  },
  {
   "cell_type": "markdown",
   "id": "e0684714",
   "metadata": {},
   "source": [
    "#### Evaluación del modelo"
   ]
  },
  {
   "cell_type": "code",
   "execution_count": null,
   "id": "de4aa85b",
   "metadata": {},
   "outputs": [],
   "source": [
    "# Crear matriz de confusión\n",
    "conf_mat = confusion_matrix(y_test, y_pred)\n",
    "\n",
    "# Crear figura y ejes\n",
    "fig, ax = plt.subplots(figsize=(6,4))\n",
    "\n",
    "# Crear mapa de calor de la matriz de confusión con Seaborn\n",
    "sns.heatmap(conf_mat\n",
    "            , annot=True  # agregar valores en cada celda\n",
    "            , fmt='d'    # formato de los valores (d = decimal)\n",
    "           )\n",
    "\n",
    "# Agregar etiquetas a los ejes x e y\n",
    "plt.ylabel('Actual')\n",
    "plt.xlabel('Predicted')\n",
    "\n",
    "# Mostrar la figura\n",
    "plt.show()\n",
    "\n",
    "# Se imprimen las medidas de rendimiento del modelo\n",
    "print(metrics.classification_report(y_test, y_pred))"
   ]
  },
  {
   "cell_type": "code",
   "execution_count": null,
   "id": "de3203ee",
   "metadata": {},
   "outputs": [],
   "source": [
    "# Predecir las etiquetas de clase usando el modelo de regresión logística entrenado\n",
    "predicted_labels = modelo_final.predict(X_test)\n",
    "\n",
    "# Calcular el área bajo la curva ROC\n",
    "auc = roc_auc_score(y_test, predicted_labels)\n",
    "\n",
    "# Imprimir el valor del AUC\n",
    "print('AUC: %.2f' % auc)\n",
    "\n",
    "# Calcular la curva ROC usando los valores verdaderos y las etiquetas predichas\n",
    "fpr, tpr, thresholds = roc_curve(y_test, predicted_labels)\n",
    "\n",
    "# Graficar la curva ROC\n",
    "plot_roc_curve(fpr, tpr)"
   ]
  }
 ],
 "metadata": {
  "kernelspec": {
   "display_name": "Python 3 (ipykernel)",
   "language": "python",
   "name": "python3"
  },
  "language_info": {
   "codemirror_mode": {
    "name": "ipython",
    "version": 3
   },
   "file_extension": ".py",
   "mimetype": "text/x-python",
   "name": "python",
   "nbconvert_exporter": "python",
   "pygments_lexer": "ipython3",
   "version": "3.10.11"
  }
 },
 "nbformat": 4,
 "nbformat_minor": 5
}
